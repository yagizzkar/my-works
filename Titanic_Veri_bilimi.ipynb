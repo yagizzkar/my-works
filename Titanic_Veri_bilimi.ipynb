{
  "nbformat": 4,
  "nbformat_minor": 0,
  "metadata": {
    "colab": {
      "provenance": []
    },
    "kernelspec": {
      "name": "python3",
      "display_name": "Python 3"
    },
    "language_info": {
      "name": "python"
    }
  },
  "cells": [
    {
      "cell_type": "code",
      "execution_count": null,
      "metadata": {
        "id": "1H0XaOgvyNpd"
      },
      "outputs": [],
      "source": [
        "\n",
        "import numpy as np\n",
        "import pandas as pd\n",
        "import matplotlib.pyplot as plt\n",
        "import seaborn as sns\n",
        "\n",
        "df=sns.load_dataset(\"titanic\")\n",
        "# df = pd.read_csv('train.csv')\n",
        "df.drop(columns=[\"who\",\"adult_male\",\"embarked\",\"alive\"],inplace=True)\n"
      ]
    },
    {
      "cell_type": "code",
      "source": [
        "#train.csv otomatik load olmadığından titanic'i sns ile load ettim o yüzden en baştaki çalışmalarıma titanic için güncelliyorum\n",
        "for x in df.columns[-6:]:\n",
        " print(df[x].head(5))\n",
        "#who=sex , adult_male bulunabilir,embark_town embarked yerine geçer ,alive=survived,alone lazım"
      ],
      "metadata": {
        "colab": {
          "base_uri": "https://localhost:8080/"
        },
        "id": "SSNAXFUh87Tu",
        "outputId": "318f54c0-6cd8-4484-ad67-8f5cd370fdeb"
      },
      "execution_count": null,
      "outputs": [
        {
          "output_type": "stream",
          "name": "stdout",
          "text": [
            "0    0\n",
            "1    0\n",
            "2    0\n",
            "3    0\n",
            "4    0\n",
            "Name: parch, dtype: int64\n",
            "0     7.2500\n",
            "1    71.2833\n",
            "2     7.9250\n",
            "3    53.1000\n",
            "4     8.0500\n",
            "Name: fare, dtype: float64\n",
            "0    Third\n",
            "1    First\n",
            "2    Third\n",
            "3    First\n",
            "4    Third\n",
            "Name: class, dtype: category\n",
            "Categories (3, object): ['First', 'Second', 'Third']\n",
            "0    NaN\n",
            "1      C\n",
            "2    NaN\n",
            "3      C\n",
            "4    NaN\n",
            "Name: deck, dtype: category\n",
            "Categories (7, object): ['A', 'B', 'C', 'D', 'E', 'F', 'G']\n",
            "0    Southampton\n",
            "1      Cherbourg\n",
            "2    Southampton\n",
            "3    Southampton\n",
            "4    Southampton\n",
            "Name: embark_town, dtype: object\n",
            "0    False\n",
            "1    False\n",
            "2     True\n",
            "3    False\n",
            "4     True\n",
            "Name: alone, dtype: bool\n"
          ]
        }
      ]
    },
    {
      "cell_type": "markdown",
      "source": [
        "1-Veri Setini Tanıtma"
      ],
      "metadata": {
        "id": "uZNTk8HUSVks"
      }
    },
    {
      "cell_type": "code",
      "source": [
        "df.columns\n",
        "\n"
      ],
      "metadata": {
        "colab": {
          "base_uri": "https://localhost:8080/"
        },
        "id": "rOx8r7eRU5va",
        "outputId": "13b450ee-fb8d-4e31-98c5-eaf789cde5b8"
      },
      "execution_count": null,
      "outputs": [
        {
          "output_type": "execute_result",
          "data": {
            "text/plain": [
              "Index(['survived', 'pclass', 'sex', 'age', 'sibsp', 'parch', 'fare', 'class',\n",
              "       'deck', 'embark_town', 'alone'],\n",
              "      dtype='object')"
            ]
          },
          "metadata": {},
          "execution_count": 104
        }
      ]
    },
    {
      "cell_type": "code",
      "source": [
        "df.info()"
      ],
      "metadata": {
        "colab": {
          "base_uri": "https://localhost:8080/"
        },
        "id": "iYT5LkisU6gb",
        "outputId": "fd1c35d2-5b42-44d1-8c31-c6d84917579b"
      },
      "execution_count": null,
      "outputs": [
        {
          "output_type": "stream",
          "name": "stdout",
          "text": [
            "<class 'pandas.core.frame.DataFrame'>\n",
            "RangeIndex: 891 entries, 0 to 890\n",
            "Data columns (total 11 columns):\n",
            " #   Column       Non-Null Count  Dtype   \n",
            "---  ------       --------------  -----   \n",
            " 0   survived     891 non-null    int64   \n",
            " 1   pclass       891 non-null    int64   \n",
            " 2   sex          891 non-null    object  \n",
            " 3   age          714 non-null    float64 \n",
            " 4   sibsp        891 non-null    int64   \n",
            " 5   parch        891 non-null    int64   \n",
            " 6   fare         891 non-null    float64 \n",
            " 7   class        891 non-null    category\n",
            " 8   deck         203 non-null    category\n",
            " 9   embark_town  889 non-null    object  \n",
            " 10  alone        891 non-null    bool    \n",
            "dtypes: bool(1), category(2), float64(2), int64(4), object(2)\n",
            "memory usage: 58.9+ KB\n"
          ]
        }
      ]
    },
    {
      "cell_type": "code",
      "source": [
        "df.describe()"
      ],
      "metadata": {
        "colab": {
          "base_uri": "https://localhost:8080/",
          "height": 301
        },
        "id": "GR3lcRW3SQTp",
        "outputId": "fe6301e8-bdb9-4402-ba28-34f0c0ff06d6"
      },
      "execution_count": null,
      "outputs": [
        {
          "output_type": "execute_result",
          "data": {
            "text/plain": [
              "         survived      pclass         age       sibsp       parch        fare\n",
              "count  891.000000  891.000000  714.000000  891.000000  891.000000  891.000000\n",
              "mean     0.383838    2.308642   29.699118    0.523008    0.381594   32.204208\n",
              "std      0.486592    0.836071   14.526497    1.102743    0.806057   49.693429\n",
              "min      0.000000    1.000000    0.420000    0.000000    0.000000    0.000000\n",
              "25%      0.000000    2.000000   20.125000    0.000000    0.000000    7.910400\n",
              "50%      0.000000    3.000000   28.000000    0.000000    0.000000   14.454200\n",
              "75%      1.000000    3.000000   38.000000    1.000000    0.000000   31.000000\n",
              "max      1.000000    3.000000   80.000000    8.000000    6.000000  512.329200"
            ],
            "text/html": [
              "\n",
              "  <div id=\"df-f1523ce6-8200-4d69-b069-653470b8042b\" class=\"colab-df-container\">\n",
              "    <div>\n",
              "<style scoped>\n",
              "    .dataframe tbody tr th:only-of-type {\n",
              "        vertical-align: middle;\n",
              "    }\n",
              "\n",
              "    .dataframe tbody tr th {\n",
              "        vertical-align: top;\n",
              "    }\n",
              "\n",
              "    .dataframe thead th {\n",
              "        text-align: right;\n",
              "    }\n",
              "</style>\n",
              "<table border=\"1\" class=\"dataframe\">\n",
              "  <thead>\n",
              "    <tr style=\"text-align: right;\">\n",
              "      <th></th>\n",
              "      <th>survived</th>\n",
              "      <th>pclass</th>\n",
              "      <th>age</th>\n",
              "      <th>sibsp</th>\n",
              "      <th>parch</th>\n",
              "      <th>fare</th>\n",
              "    </tr>\n",
              "  </thead>\n",
              "  <tbody>\n",
              "    <tr>\n",
              "      <th>count</th>\n",
              "      <td>891.000000</td>\n",
              "      <td>891.000000</td>\n",
              "      <td>714.000000</td>\n",
              "      <td>891.000000</td>\n",
              "      <td>891.000000</td>\n",
              "      <td>891.000000</td>\n",
              "    </tr>\n",
              "    <tr>\n",
              "      <th>mean</th>\n",
              "      <td>0.383838</td>\n",
              "      <td>2.308642</td>\n",
              "      <td>29.699118</td>\n",
              "      <td>0.523008</td>\n",
              "      <td>0.381594</td>\n",
              "      <td>32.204208</td>\n",
              "    </tr>\n",
              "    <tr>\n",
              "      <th>std</th>\n",
              "      <td>0.486592</td>\n",
              "      <td>0.836071</td>\n",
              "      <td>14.526497</td>\n",
              "      <td>1.102743</td>\n",
              "      <td>0.806057</td>\n",
              "      <td>49.693429</td>\n",
              "    </tr>\n",
              "    <tr>\n",
              "      <th>min</th>\n",
              "      <td>0.000000</td>\n",
              "      <td>1.000000</td>\n",
              "      <td>0.420000</td>\n",
              "      <td>0.000000</td>\n",
              "      <td>0.000000</td>\n",
              "      <td>0.000000</td>\n",
              "    </tr>\n",
              "    <tr>\n",
              "      <th>25%</th>\n",
              "      <td>0.000000</td>\n",
              "      <td>2.000000</td>\n",
              "      <td>20.125000</td>\n",
              "      <td>0.000000</td>\n",
              "      <td>0.000000</td>\n",
              "      <td>7.910400</td>\n",
              "    </tr>\n",
              "    <tr>\n",
              "      <th>50%</th>\n",
              "      <td>0.000000</td>\n",
              "      <td>3.000000</td>\n",
              "      <td>28.000000</td>\n",
              "      <td>0.000000</td>\n",
              "      <td>0.000000</td>\n",
              "      <td>14.454200</td>\n",
              "    </tr>\n",
              "    <tr>\n",
              "      <th>75%</th>\n",
              "      <td>1.000000</td>\n",
              "      <td>3.000000</td>\n",
              "      <td>38.000000</td>\n",
              "      <td>1.000000</td>\n",
              "      <td>0.000000</td>\n",
              "      <td>31.000000</td>\n",
              "    </tr>\n",
              "    <tr>\n",
              "      <th>max</th>\n",
              "      <td>1.000000</td>\n",
              "      <td>3.000000</td>\n",
              "      <td>80.000000</td>\n",
              "      <td>8.000000</td>\n",
              "      <td>6.000000</td>\n",
              "      <td>512.329200</td>\n",
              "    </tr>\n",
              "  </tbody>\n",
              "</table>\n",
              "</div>\n",
              "    <div class=\"colab-df-buttons\">\n",
              "\n",
              "  <div class=\"colab-df-container\">\n",
              "    <button class=\"colab-df-convert\" onclick=\"convertToInteractive('df-f1523ce6-8200-4d69-b069-653470b8042b')\"\n",
              "            title=\"Convert this dataframe to an interactive table.\"\n",
              "            style=\"display:none;\">\n",
              "\n",
              "  <svg xmlns=\"http://www.w3.org/2000/svg\" height=\"24px\" viewBox=\"0 -960 960 960\">\n",
              "    <path d=\"M120-120v-720h720v720H120Zm60-500h600v-160H180v160Zm220 220h160v-160H400v160Zm0 220h160v-160H400v160ZM180-400h160v-160H180v160Zm440 0h160v-160H620v160ZM180-180h160v-160H180v160Zm440 0h160v-160H620v160Z\"/>\n",
              "  </svg>\n",
              "    </button>\n",
              "\n",
              "  <style>\n",
              "    .colab-df-container {\n",
              "      display:flex;\n",
              "      gap: 12px;\n",
              "    }\n",
              "\n",
              "    .colab-df-convert {\n",
              "      background-color: #E8F0FE;\n",
              "      border: none;\n",
              "      border-radius: 50%;\n",
              "      cursor: pointer;\n",
              "      display: none;\n",
              "      fill: #1967D2;\n",
              "      height: 32px;\n",
              "      padding: 0 0 0 0;\n",
              "      width: 32px;\n",
              "    }\n",
              "\n",
              "    .colab-df-convert:hover {\n",
              "      background-color: #E2EBFA;\n",
              "      box-shadow: 0px 1px 2px rgba(60, 64, 67, 0.3), 0px 1px 3px 1px rgba(60, 64, 67, 0.15);\n",
              "      fill: #174EA6;\n",
              "    }\n",
              "\n",
              "    .colab-df-buttons div {\n",
              "      margin-bottom: 4px;\n",
              "    }\n",
              "\n",
              "    [theme=dark] .colab-df-convert {\n",
              "      background-color: #3B4455;\n",
              "      fill: #D2E3FC;\n",
              "    }\n",
              "\n",
              "    [theme=dark] .colab-df-convert:hover {\n",
              "      background-color: #434B5C;\n",
              "      box-shadow: 0px 1px 3px 1px rgba(0, 0, 0, 0.15);\n",
              "      filter: drop-shadow(0px 1px 2px rgba(0, 0, 0, 0.3));\n",
              "      fill: #FFFFFF;\n",
              "    }\n",
              "  </style>\n",
              "\n",
              "    <script>\n",
              "      const buttonEl =\n",
              "        document.querySelector('#df-f1523ce6-8200-4d69-b069-653470b8042b button.colab-df-convert');\n",
              "      buttonEl.style.display =\n",
              "        google.colab.kernel.accessAllowed ? 'block' : 'none';\n",
              "\n",
              "      async function convertToInteractive(key) {\n",
              "        const element = document.querySelector('#df-f1523ce6-8200-4d69-b069-653470b8042b');\n",
              "        const dataTable =\n",
              "          await google.colab.kernel.invokeFunction('convertToInteractive',\n",
              "                                                    [key], {});\n",
              "        if (!dataTable) return;\n",
              "\n",
              "        const docLinkHtml = 'Like what you see? Visit the ' +\n",
              "          '<a target=\"_blank\" href=https://colab.research.google.com/notebooks/data_table.ipynb>data table notebook</a>'\n",
              "          + ' to learn more about interactive tables.';\n",
              "        element.innerHTML = '';\n",
              "        dataTable['output_type'] = 'display_data';\n",
              "        await google.colab.output.renderOutput(dataTable, element);\n",
              "        const docLink = document.createElement('div');\n",
              "        docLink.innerHTML = docLinkHtml;\n",
              "        element.appendChild(docLink);\n",
              "      }\n",
              "    </script>\n",
              "  </div>\n",
              "\n",
              "\n",
              "    <div id=\"df-6cac9e04-6bc6-41ce-9b36-603d5eb055e0\">\n",
              "      <button class=\"colab-df-quickchart\" onclick=\"quickchart('df-6cac9e04-6bc6-41ce-9b36-603d5eb055e0')\"\n",
              "                title=\"Suggest charts\"\n",
              "                style=\"display:none;\">\n",
              "\n",
              "<svg xmlns=\"http://www.w3.org/2000/svg\" height=\"24px\"viewBox=\"0 0 24 24\"\n",
              "     width=\"24px\">\n",
              "    <g>\n",
              "        <path d=\"M19 3H5c-1.1 0-2 .9-2 2v14c0 1.1.9 2 2 2h14c1.1 0 2-.9 2-2V5c0-1.1-.9-2-2-2zM9 17H7v-7h2v7zm4 0h-2V7h2v10zm4 0h-2v-4h2v4z\"/>\n",
              "    </g>\n",
              "</svg>\n",
              "      </button>\n",
              "\n",
              "<style>\n",
              "  .colab-df-quickchart {\n",
              "      --bg-color: #E8F0FE;\n",
              "      --fill-color: #1967D2;\n",
              "      --hover-bg-color: #E2EBFA;\n",
              "      --hover-fill-color: #174EA6;\n",
              "      --disabled-fill-color: #AAA;\n",
              "      --disabled-bg-color: #DDD;\n",
              "  }\n",
              "\n",
              "  [theme=dark] .colab-df-quickchart {\n",
              "      --bg-color: #3B4455;\n",
              "      --fill-color: #D2E3FC;\n",
              "      --hover-bg-color: #434B5C;\n",
              "      --hover-fill-color: #FFFFFF;\n",
              "      --disabled-bg-color: #3B4455;\n",
              "      --disabled-fill-color: #666;\n",
              "  }\n",
              "\n",
              "  .colab-df-quickchart {\n",
              "    background-color: var(--bg-color);\n",
              "    border: none;\n",
              "    border-radius: 50%;\n",
              "    cursor: pointer;\n",
              "    display: none;\n",
              "    fill: var(--fill-color);\n",
              "    height: 32px;\n",
              "    padding: 0;\n",
              "    width: 32px;\n",
              "  }\n",
              "\n",
              "  .colab-df-quickchart:hover {\n",
              "    background-color: var(--hover-bg-color);\n",
              "    box-shadow: 0 1px 2px rgba(60, 64, 67, 0.3), 0 1px 3px 1px rgba(60, 64, 67, 0.15);\n",
              "    fill: var(--button-hover-fill-color);\n",
              "  }\n",
              "\n",
              "  .colab-df-quickchart-complete:disabled,\n",
              "  .colab-df-quickchart-complete:disabled:hover {\n",
              "    background-color: var(--disabled-bg-color);\n",
              "    fill: var(--disabled-fill-color);\n",
              "    box-shadow: none;\n",
              "  }\n",
              "\n",
              "  .colab-df-spinner {\n",
              "    border: 2px solid var(--fill-color);\n",
              "    border-color: transparent;\n",
              "    border-bottom-color: var(--fill-color);\n",
              "    animation:\n",
              "      spin 1s steps(1) infinite;\n",
              "  }\n",
              "\n",
              "  @keyframes spin {\n",
              "    0% {\n",
              "      border-color: transparent;\n",
              "      border-bottom-color: var(--fill-color);\n",
              "      border-left-color: var(--fill-color);\n",
              "    }\n",
              "    20% {\n",
              "      border-color: transparent;\n",
              "      border-left-color: var(--fill-color);\n",
              "      border-top-color: var(--fill-color);\n",
              "    }\n",
              "    30% {\n",
              "      border-color: transparent;\n",
              "      border-left-color: var(--fill-color);\n",
              "      border-top-color: var(--fill-color);\n",
              "      border-right-color: var(--fill-color);\n",
              "    }\n",
              "    40% {\n",
              "      border-color: transparent;\n",
              "      border-right-color: var(--fill-color);\n",
              "      border-top-color: var(--fill-color);\n",
              "    }\n",
              "    60% {\n",
              "      border-color: transparent;\n",
              "      border-right-color: var(--fill-color);\n",
              "    }\n",
              "    80% {\n",
              "      border-color: transparent;\n",
              "      border-right-color: var(--fill-color);\n",
              "      border-bottom-color: var(--fill-color);\n",
              "    }\n",
              "    90% {\n",
              "      border-color: transparent;\n",
              "      border-bottom-color: var(--fill-color);\n",
              "    }\n",
              "  }\n",
              "</style>\n",
              "\n",
              "      <script>\n",
              "        async function quickchart(key) {\n",
              "          const quickchartButtonEl =\n",
              "            document.querySelector('#' + key + ' button');\n",
              "          quickchartButtonEl.disabled = true;  // To prevent multiple clicks.\n",
              "          quickchartButtonEl.classList.add('colab-df-spinner');\n",
              "          try {\n",
              "            const charts = await google.colab.kernel.invokeFunction(\n",
              "                'suggestCharts', [key], {});\n",
              "          } catch (error) {\n",
              "            console.error('Error during call to suggestCharts:', error);\n",
              "          }\n",
              "          quickchartButtonEl.classList.remove('colab-df-spinner');\n",
              "          quickchartButtonEl.classList.add('colab-df-quickchart-complete');\n",
              "        }\n",
              "        (() => {\n",
              "          let quickchartButtonEl =\n",
              "            document.querySelector('#df-6cac9e04-6bc6-41ce-9b36-603d5eb055e0 button');\n",
              "          quickchartButtonEl.style.display =\n",
              "            google.colab.kernel.accessAllowed ? 'block' : 'none';\n",
              "        })();\n",
              "      </script>\n",
              "    </div>\n",
              "\n",
              "    </div>\n",
              "  </div>\n"
            ],
            "application/vnd.google.colaboratory.intrinsic+json": {
              "type": "dataframe",
              "summary": "{\n  \"name\": \"df\",\n  \"rows\": 8,\n  \"fields\": [\n    {\n      \"column\": \"survived\",\n      \"properties\": {\n        \"dtype\": \"number\",\n        \"std\": 314.8713661874558,\n        \"min\": 0.0,\n        \"max\": 891.0,\n        \"num_unique_values\": 5,\n        \"samples\": [\n          0.3838383838383838,\n          1.0,\n          0.4865924542648585\n        ],\n        \"semantic_type\": \"\",\n        \"description\": \"\"\n      }\n    },\n    {\n      \"column\": \"pclass\",\n      \"properties\": {\n        \"dtype\": \"number\",\n        \"std\": 314.2523437079693,\n        \"min\": 0.8360712409770513,\n        \"max\": 891.0,\n        \"num_unique_values\": 6,\n        \"samples\": [\n          891.0,\n          2.308641975308642,\n          3.0\n        ],\n        \"semantic_type\": \"\",\n        \"description\": \"\"\n      }\n    },\n    {\n      \"column\": \"age\",\n      \"properties\": {\n        \"dtype\": \"number\",\n        \"std\": 242.9056731818781,\n        \"min\": 0.42,\n        \"max\": 714.0,\n        \"num_unique_values\": 8,\n        \"samples\": [\n          29.69911764705882,\n          28.0,\n          714.0\n        ],\n        \"semantic_type\": \"\",\n        \"description\": \"\"\n      }\n    },\n    {\n      \"column\": \"sibsp\",\n      \"properties\": {\n        \"dtype\": \"number\",\n        \"std\": 314.4908277465442,\n        \"min\": 0.0,\n        \"max\": 891.0,\n        \"num_unique_values\": 6,\n        \"samples\": [\n          891.0,\n          0.5230078563411896,\n          8.0\n        ],\n        \"semantic_type\": \"\",\n        \"description\": \"\"\n      }\n    },\n    {\n      \"column\": \"parch\",\n      \"properties\": {\n        \"dtype\": \"number\",\n        \"std\": 314.65971717879,\n        \"min\": 0.0,\n        \"max\": 891.0,\n        \"num_unique_values\": 5,\n        \"samples\": [\n          0.38159371492704824,\n          6.0,\n          0.8060572211299559\n        ],\n        \"semantic_type\": \"\",\n        \"description\": \"\"\n      }\n    },\n    {\n      \"column\": \"fare\",\n      \"properties\": {\n        \"dtype\": \"number\",\n        \"std\": 330.6256632228577,\n        \"min\": 0.0,\n        \"max\": 891.0,\n        \"num_unique_values\": 8,\n        \"samples\": [\n          32.204207968574636,\n          14.4542,\n          891.0\n        ],\n        \"semantic_type\": \"\",\n        \"description\": \"\"\n      }\n    }\n  ]\n}"
            }
          },
          "metadata": {},
          "execution_count": 106
        }
      ]
    },
    {
      "cell_type": "markdown",
      "source": [
        "2.1 Eksik değer analizi ve özet istatistikler"
      ],
      "metadata": {
        "id": "keobS6YjVjgV"
      }
    },
    {
      "cell_type": "code",
      "source": [
        "df.isna().sum()\n",
        "\n",
        "\n",
        "for x in df.columns:\n",
        "  if df[x].isna().any():\n",
        "    print(x)\n",
        "#Eksik veri olanları buldum"
      ],
      "metadata": {
        "colab": {
          "base_uri": "https://localhost:8080/"
        },
        "id": "ujnDY9Q-U_ca",
        "outputId": "0619d81c-c488-494e-dec3-514277944d11"
      },
      "execution_count": null,
      "outputs": [
        {
          "output_type": "stream",
          "name": "stdout",
          "text": [
            "age\n",
            "deck\n",
            "embark_town\n"
          ]
        }
      ]
    },
    {
      "cell_type": "markdown",
      "source": [
        "2.2  Kategorik ve sayısal değişkenlerim dağılımı"
      ],
      "metadata": {
        "id": "bFnKTYIxTbq-"
      }
    },
    {
      "cell_type": "code",
      "source": [
        "for x in df.columns:\n",
        " if len(df[x].unique())<205 and x!=\"age\":\n",
        "  print(f\"{x}'nın değerleri:{df[x].unique()}\")\n",
        "#Bu kodum sayesinde hangi değerler üzeridej verilerde yazmıyor onu buluyorum (neden 205 çünkü cabin lazım ve diğer columnların sayısal değerlerine ulaşmak istemiyorum)\n"
      ],
      "metadata": {
        "colab": {
          "base_uri": "https://localhost:8080/"
        },
        "id": "qBxijrikNCiZ",
        "outputId": "b6ea4a55-9878-43a9-a498-f3a6c0b4bca1"
      },
      "execution_count": null,
      "outputs": [
        {
          "output_type": "stream",
          "name": "stdout",
          "text": [
            "survived'nın değerleri:[0 1]\n",
            "pclass'nın değerleri:[3 1 2]\n",
            "sex'nın değerleri:['male' 'female']\n",
            "sibsp'nın değerleri:[1 0 3 4 2 5 8]\n",
            "parch'nın değerleri:[0 1 2 5 3 4 6]\n",
            "class'nın değerleri:['Third', 'First', 'Second']\n",
            "Categories (3, object): ['First', 'Second', 'Third']\n",
            "deck'nın değerleri:[NaN, 'C', 'E', 'G', 'D', 'A', 'B', 'F']\n",
            "Categories (7, object): ['A', 'B', 'C', 'D', 'E', 'F', 'G']\n",
            "embark_town'nın değerleri:['Southampton' 'Cherbourg' 'Queenstown' nan]\n",
            "alone'nın değerleri:[False  True]\n"
          ]
        }
      ]
    },
    {
      "cell_type": "markdown",
      "source": [
        "2.3 Outlier tespiti"
      ],
      "metadata": {
        "id": "wGWVeI3_BLx8"
      }
    },
    {
      "cell_type": "code",
      "source": [
        "a=df.select_dtypes(include=[\"number\"])\n",
        "sns.boxplot(a)\n",
        "#age,sibsp,parch,fare'de outlier tespiti"
      ],
      "metadata": {
        "colab": {
          "base_uri": "https://localhost:8080/",
          "height": 447
        },
        "id": "zqbNRnWnMoBl",
        "outputId": "eb5d9203-d66f-442f-e20b-8e44b1dd4e03"
      },
      "execution_count": null,
      "outputs": [
        {
          "output_type": "execute_result",
          "data": {
            "text/plain": [
              "<Axes: >"
            ]
          },
          "metadata": {},
          "execution_count": 109
        },
        {
          "output_type": "display_data",
          "data": {
            "text/plain": [
              "<Figure size 640x480 with 1 Axes>"
            ],
            "image/png": "[encoded data removed]"
          },
          "metadata": {}
        }
      ]
    },
    {
      "cell_type": "markdown",
      "source": [
        "3 Veri Görselleştirme"
      ],
      "metadata": {
        "id": "fUWh8J-RMZQ7"
      }
    },
    {
      "cell_type": "code",
      "source": [
        "\n",
        "df[\"sex\"].replace(to_replace=[\"male\",\"female\"],value=[1,0],inplace=True)\n",
        "#0,1 olarak aldım ve numerik grafiklerde kullanmak için\n",
        "num_col=df.select_dtypes(include=[int,float]).columns\n",
        "\n",
        "df[num_col].corr()\n"
      ],
      "metadata": {
        "colab": {
          "base_uri": "https://localhost:8080/",
          "height": 446
        },
        "id": "ookFwLwrMYI9",
        "outputId": "5ff63511-cd0f-4e83-e49c-62d7017e82b6"
      },
      "execution_count": null,
      "outputs": [
        {
          "output_type": "stream",
          "name": "stderr",
          "text": [
            "/tmp/ipython-input-3105084376.py:1: FutureWarning: A value is trying to be set on a copy of a DataFrame or Series through chained assignment using an inplace method.\n",
            "The behavior will change in pandas 3.0. This inplace method will never work because the intermediate object on which we are setting values always behaves as a copy.\n",
            "\n",
            "For example, when doing 'df[col].method(value, inplace=True)', try using 'df.method({col: value}, inplace=True)' or df[col] = df[col].method(value) instead, to perform the operation inplace on the original object.\n",
            "\n",
            "\n",
            "  df[\"sex\"].replace(to_replace=[\"male\",\"female\"],value=[1,0],inplace=True)\n",
            "/tmp/ipython-input-3105084376.py:1: FutureWarning: Downcasting behavior in `replace` is deprecated and will be removed in a future version. To retain the old behavior, explicitly call `result.infer_objects(copy=False)`. To opt-in to the future behavior, set `pd.set_option('future.no_silent_downcasting', True)`\n",
            "  df[\"sex\"].replace(to_replace=[\"male\",\"female\"],value=[1,0],inplace=True)\n"
          ]
        },
        {
          "output_type": "execute_result",
          "data": {
            "text/plain": [
              "          survived    pclass       sex       age     sibsp     parch      fare\n",
              "survived  1.000000 -0.338481 -0.543351 -0.077221 -0.035322  0.081629  0.257307\n",
              "pclass   -0.338481  1.000000  0.131900 -0.369226  0.083081  0.018443 -0.549500\n",
              "sex      -0.543351  0.131900  1.000000  0.093254 -0.114631 -0.245489 -0.182333\n",
              "age      -0.077221 -0.369226  0.093254  1.000000 -0.308247 -0.189119  0.096067\n",
              "sibsp    -0.035322  0.083081 -0.114631 -0.308247  1.000000  0.414838  0.159651\n",
              "parch     0.081629  0.018443 -0.245489 -0.189119  0.414838  1.000000  0.216225\n",
              "fare      0.257307 -0.549500 -0.182333  0.096067  0.159651  0.216225  1.000000"
            ],
            "text/html": [
              "\n",
              "  <div id=\"df-b633922b-3f27-410e-bd5b-6e48e0c71273\" class=\"colab-df-container\">\n",
              "    <div>\n",
              "<style scoped>\n",
              "    .dataframe tbody tr th:only-of-type {\n",
              "        vertical-align: middle;\n",
              "    }\n",
              "\n",
              "    .dataframe tbody tr th {\n",
              "        vertical-align: top;\n",
              "    }\n",
              "\n",
              "    .dataframe thead th {\n",
              "        text-align: right;\n",
              "    }\n",
              "</style>\n",
              "<table border=\"1\" class=\"dataframe\">\n",
              "  <thead>\n",
              "    <tr style=\"text-align: right;\">\n",
              "      <th></th>\n",
              "      <th>survived</th>\n",
              "      <th>pclass</th>\n",
              "      <th>sex</th>\n",
              "      <th>age</th>\n",
              "      <th>sibsp</th>\n",
              "      <th>parch</th>\n",
              "      <th>fare</th>\n",
              "    </tr>\n",
              "  </thead>\n",
              "  <tbody>\n",
              "    <tr>\n",
              "      <th>survived</th>\n",
              "      <td>1.000000</td>\n",
              "      <td>-0.338481</td>\n",
              "      <td>-0.543351</td>\n",
              "      <td>-0.077221</td>\n",
              "      <td>-0.035322</td>\n",
              "      <td>0.081629</td>\n",
              "      <td>0.257307</td>\n",
              "    </tr>\n",
              "    <tr>\n",
              "      <th>pclass</th>\n",
              "      <td>-0.338481</td>\n",
              "      <td>1.000000</td>\n",
              "      <td>0.131900</td>\n",
              "      <td>-0.369226</td>\n",
              "      <td>0.083081</td>\n",
              "      <td>0.018443</td>\n",
              "      <td>-0.549500</td>\n",
              "    </tr>\n",
              "    <tr>\n",
              "      <th>sex</th>\n",
              "      <td>-0.543351</td>\n",
              "      <td>0.131900</td>\n",
              "      <td>1.000000</td>\n",
              "      <td>0.093254</td>\n",
              "      <td>-0.114631</td>\n",
              "      <td>-0.245489</td>\n",
              "      <td>-0.182333</td>\n",
              "    </tr>\n",
              "    <tr>\n",
              "      <th>age</th>\n",
              "      <td>-0.077221</td>\n",
              "      <td>-0.369226</td>\n",
              "      <td>0.093254</td>\n",
              "      <td>1.000000</td>\n",
              "      <td>-0.308247</td>\n",
              "      <td>-0.189119</td>\n",
              "      <td>0.096067</td>\n",
              "    </tr>\n",
              "    <tr>\n",
              "      <th>sibsp</th>\n",
              "      <td>-0.035322</td>\n",
              "      <td>0.083081</td>\n",
              "      <td>-0.114631</td>\n",
              "      <td>-0.308247</td>\n",
              "      <td>1.000000</td>\n",
              "      <td>0.414838</td>\n",
              "      <td>0.159651</td>\n",
              "    </tr>\n",
              "    <tr>\n",
              "      <th>parch</th>\n",
              "      <td>0.081629</td>\n",
              "      <td>0.018443</td>\n",
              "      <td>-0.245489</td>\n",
              "      <td>-0.189119</td>\n",
              "      <td>0.414838</td>\n",
              "      <td>1.000000</td>\n",
              "      <td>0.216225</td>\n",
              "    </tr>\n",
              "    <tr>\n",
              "      <th>fare</th>\n",
              "      <td>0.257307</td>\n",
              "      <td>-0.549500</td>\n",
              "      <td>-0.182333</td>\n",
              "      <td>0.096067</td>\n",
              "      <td>0.159651</td>\n",
              "      <td>0.216225</td>\n",
              "      <td>1.000000</td>\n",
              "    </tr>\n",
              "  </tbody>\n",
              "</table>\n",
              "</div>\n",
              "    <div class=\"colab-df-buttons\">\n",
              "\n",
              "  <div class=\"colab-df-container\">\n",
              "    <button class=\"colab-df-convert\" onclick=\"convertToInteractive('df-b633922b-3f27-410e-bd5b-6e48e0c71273')\"\n",
              "            title=\"Convert this dataframe to an interactive table.\"\n",
              "            style=\"display:none;\">\n",
              "\n",
              "  <svg xmlns=\"http://www.w3.org/2000/svg\" height=\"24px\" viewBox=\"0 -960 960 960\">\n",
              "    <path d=\"M120-120v-720h720v720H120Zm60-500h600v-160H180v160Zm220 220h160v-160H400v160Zm0 220h160v-160H400v160ZM180-400h160v-160H180v160Zm440 0h160v-160H620v160ZM180-180h160v-160H180v160Zm440 0h160v-160H620v160Z\"/>\n",
              "  </svg>\n",
              "    </button>\n",
              "\n",
              "  <style>\n",
              "    .colab-df-container {\n",
              "      display:flex;\n",
              "      gap: 12px;\n",
              "    }\n",
              "\n",
              "    .colab-df-convert {\n",
              "      background-color: #E8F0FE;\n",
              "      border: none;\n",
              "      border-radius: 50%;\n",
              "      cursor: pointer;\n",
              "      display: none;\n",
              "      fill: #1967D2;\n",
              "      height: 32px;\n",
              "      padding: 0 0 0 0;\n",
              "      width: 32px;\n",
              "    }\n",
              "\n",
              "    .colab-df-convert:hover {\n",
              "      background-color: #E2EBFA;\n",
              "      box-shadow: 0px 1px 2px rgba(60, 64, 67, 0.3), 0px 1px 3px 1px rgba(60, 64, 67, 0.15);\n",
              "      fill: #174EA6;\n",
              "    }\n",
              "\n",
              "    .colab-df-buttons div {\n",
              "      margin-bottom: 4px;\n",
              "    }\n",
              "\n",
              "    [theme=dark] .colab-df-convert {\n",
              "      background-color: #3B4455;\n",
              "      fill: #D2E3FC;\n",
              "    }\n",
              "\n",
              "    [theme=dark] .colab-df-convert:hover {\n",
              "      background-color: #434B5C;\n",
              "      box-shadow: 0px 1px 3px 1px rgba(0, 0, 0, 0.15);\n",
              "      filter: drop-shadow(0px 1px 2px rgba(0, 0, 0, 0.3));\n",
              "      fill: #FFFFFF;\n",
              "    }\n",
              "  </style>\n",
              "\n",
              "    <script>\n",
              "      const buttonEl =\n",
              "        document.querySelector('#df-b633922b-3f27-410e-bd5b-6e48e0c71273 button.colab-df-convert');\n",
              "      buttonEl.style.display =\n",
              "        google.colab.kernel.accessAllowed ? 'block' : 'none';\n",
              "\n",
              "      async function convertToInteractive(key) {\n",
              "        const element = document.querySelector('#df-b633922b-3f27-410e-bd5b-6e48e0c71273');\n",
              "        const dataTable =\n",
              "          await google.colab.kernel.invokeFunction('convertToInteractive',\n",
              "                                                    [key], {});\n",
              "        if (!dataTable) return;\n",
              "\n",
              "        const docLinkHtml = 'Like what you see? Visit the ' +\n",
              "          '<a target=\"_blank\" href=https://colab.research.google.com/notebooks/data_table.ipynb>data table notebook</a>'\n",
              "          + ' to learn more about interactive tables.';\n",
              "        element.innerHTML = '';\n",
              "        dataTable['output_type'] = 'display_data';\n",
              "        await google.colab.output.renderOutput(dataTable, element);\n",
              "        const docLink = document.createElement('div');\n",
              "        docLink.innerHTML = docLinkHtml;\n",
              "        element.appendChild(docLink);\n",
              "      }\n",
              "    </script>\n",
              "  </div>\n",
              "\n",
              "\n",
              "    <div id=\"df-d56c8b09-8f65-4e0f-9a97-217ecc60253e\">\n",
              "      <button class=\"colab-df-quickchart\" onclick=\"quickchart('df-d56c8b09-8f65-4e0f-9a97-217ecc60253e')\"\n",
              "                title=\"Suggest charts\"\n",
              "                style=\"display:none;\">\n",
              "\n",
              "<svg xmlns=\"http://www.w3.org/2000/svg\" height=\"24px\"viewBox=\"0 0 24 24\"\n",
              "     width=\"24px\">\n",
              "    <g>\n",
              "        <path d=\"M19 3H5c-1.1 0-2 .9-2 2v14c0 1.1.9 2 2 2h14c1.1 0 2-.9 2-2V5c0-1.1-.9-2-2-2zM9 17H7v-7h2v7zm4 0h-2V7h2v10zm4 0h-2v-4h2v4z\"/>\n",
              "    </g>\n",
              "</svg>\n",
              "      </button>\n",
              "\n",
              "<style>\n",
              "  .colab-df-quickchart {\n",
              "      --bg-color: #E8F0FE;\n",
              "      --fill-color: #1967D2;\n",
              "      --hover-bg-color: #E2EBFA;\n",
              "      --hover-fill-color: #174EA6;\n",
              "      --disabled-fill-color: #AAA;\n",
              "      --disabled-bg-color: #DDD;\n",
              "  }\n",
              "\n",
              "  [theme=dark] .colab-df-quickchart {\n",
              "      --bg-color: #3B4455;\n",
              "      --fill-color: #D2E3FC;\n",
              "      --hover-bg-color: #434B5C;\n",
              "      --hover-fill-color: #FFFFFF;\n",
              "      --disabled-bg-color: #3B4455;\n",
              "      --disabled-fill-color: #666;\n",
              "  }\n",
              "\n",
              "  .colab-df-quickchart {\n",
              "    background-color: var(--bg-color);\n",
              "    border: none;\n",
              "    border-radius: 50%;\n",
              "    cursor: pointer;\n",
              "    display: none;\n",
              "    fill: var(--fill-color);\n",
              "    height: 32px;\n",
              "    padding: 0;\n",
              "    width: 32px;\n",
              "  }\n",
              "\n",
              "  .colab-df-quickchart:hover {\n",
              "    background-color: var(--hover-bg-color);\n",
              "    box-shadow: 0 1px 2px rgba(60, 64, 67, 0.3), 0 1px 3px 1px rgba(60, 64, 67, 0.15);\n",
              "    fill: var(--button-hover-fill-color);\n",
              "  }\n",
              "\n",
              "  .colab-df-quickchart-complete:disabled,\n",
              "  .colab-df-quickchart-complete:disabled:hover {\n",
              "    background-color: var(--disabled-bg-color);\n",
              "    fill: var(--disabled-fill-color);\n",
              "    box-shadow: none;\n",
              "  }\n",
              "\n",
              "  .colab-df-spinner {\n",
              "    border: 2px solid var(--fill-color);\n",
              "    border-color: transparent;\n",
              "    border-bottom-color: var(--fill-color);\n",
              "    animation:\n",
              "      spin 1s steps(1) infinite;\n",
              "  }\n",
              "\n",
              "  @keyframes spin {\n",
              "    0% {\n",
              "      border-color: transparent;\n",
              "      border-bottom-color: var(--fill-color);\n",
              "      border-left-color: var(--fill-color);\n",
              "    }\n",
              "    20% {\n",
              "      border-color: transparent;\n",
              "      border-left-color: var(--fill-color);\n",
              "      border-top-color: var(--fill-color);\n",
              "    }\n",
              "    30% {\n",
              "      border-color: transparent;\n",
              "      border-left-color: var(--fill-color);\n",
              "      border-top-color: var(--fill-color);\n",
              "      border-right-color: var(--fill-color);\n",
              "    }\n",
              "    40% {\n",
              "      border-color: transparent;\n",
              "      border-right-color: var(--fill-color);\n",
              "      border-top-color: var(--fill-color);\n",
              "    }\n",
              "    60% {\n",
              "      border-color: transparent;\n",
              "      border-right-color: var(--fill-color);\n",
              "    }\n",
              "    80% {\n",
              "      border-color: transparent;\n",
              "      border-right-color: var(--fill-color);\n",
              "      border-bottom-color: var(--fill-color);\n",
              "    }\n",
              "    90% {\n",
              "      border-color: transparent;\n",
              "      border-bottom-color: var(--fill-color);\n",
              "    }\n",
              "  }\n",
              "</style>\n",
              "\n",
              "      <script>\n",
              "        async function quickchart(key) {\n",
              "          const quickchartButtonEl =\n",
              "            document.querySelector('#' + key + ' button');\n",
              "          quickchartButtonEl.disabled = true;  // To prevent multiple clicks.\n",
              "          quickchartButtonEl.classList.add('colab-df-spinner');\n",
              "          try {\n",
              "            const charts = await google.colab.kernel.invokeFunction(\n",
              "                'suggestCharts', [key], {});\n",
              "          } catch (error) {\n",
              "            console.error('Error during call to suggestCharts:', error);\n",
              "          }\n",
              "          quickchartButtonEl.classList.remove('colab-df-spinner');\n",
              "          quickchartButtonEl.classList.add('colab-df-quickchart-complete');\n",
              "        }\n",
              "        (() => {\n",
              "          let quickchartButtonEl =\n",
              "            document.querySelector('#df-d56c8b09-8f65-4e0f-9a97-217ecc60253e button');\n",
              "          quickchartButtonEl.style.display =\n",
              "            google.colab.kernel.accessAllowed ? 'block' : 'none';\n",
              "        })();\n",
              "      </script>\n",
              "    </div>\n",
              "\n",
              "    </div>\n",
              "  </div>\n"
            ],
            "application/vnd.google.colaboratory.intrinsic+json": {
              "type": "dataframe",
              "summary": "{\n  \"name\": \"df[num_col]\",\n  \"rows\": 7,\n  \"fields\": [\n    {\n      \"column\": \"survived\",\n      \"properties\": {\n        \"dtype\": \"number\",\n        \"std\": 0.49546622787421557,\n        \"min\": -0.543351380657755,\n        \"max\": 1.0,\n        \"num_unique_values\": 7,\n        \"samples\": [\n          1.0,\n          -0.33848103596101514,\n          0.08162940708348335\n        ],\n        \"semantic_type\": \"\",\n        \"description\": \"\"\n      }\n    },\n    {\n      \"column\": \"pclass\",\n      \"properties\": {\n        \"dtype\": \"number\",\n        \"std\": 0.5127388354330109,\n        \"min\": -0.5494996199439076,\n        \"max\": 1.0,\n        \"num_unique_values\": 7,\n        \"samples\": [\n          -0.33848103596101514,\n          1.0,\n          0.018442671310748508\n        ],\n        \"semantic_type\": \"\",\n        \"description\": \"\"\n      }\n    },\n    {\n      \"column\": \"sex\",\n      \"properties\": {\n        \"dtype\": \"number\",\n        \"std\": 0.4873740765123789,\n        \"min\": -0.543351380657755,\n        \"max\": 1.0,\n        \"num_unique_values\": 7,\n        \"samples\": [\n          -0.543351380657755,\n          0.13190049060473924,\n          -0.24548896009069898\n        ],\n        \"semantic_type\": \"\",\n        \"description\": \"\"\n      }\n    },\n    {\n      \"column\": \"age\",\n      \"properties\": {\n        \"dtype\": \"number\",\n        \"std\": 0.4623107919711759,\n        \"min\": -0.36922601531551735,\n        \"max\": 1.0,\n        \"num_unique_values\": 7,\n        \"samples\": [\n          -0.07722109457217756,\n          -0.36922601531551735,\n          -0.1891192626320352\n        ],\n        \"semantic_type\": \"\",\n        \"description\": \"\"\n      }\n    },\n    {\n      \"column\": \"sibsp\",\n      \"properties\": {\n        \"dtype\": \"number\",\n        \"std\": 0.42980361712006165,\n        \"min\": -0.30824675892365666,\n        \"max\": 1.0,\n        \"num_unique_values\": 7,\n        \"samples\": [\n          -0.035322498885735576,\n          0.08308136284568686,\n          0.41483769862015624\n        ],\n        \"semantic_type\": \"\",\n        \"description\": \"\"\n      }\n    },\n    {\n      \"column\": \"parch\",\n      \"properties\": {\n        \"dtype\": \"number\",\n        \"std\": 0.4246052721154949,\n        \"min\": -0.24548896009069898,\n        \"max\": 1.0,\n        \"num_unique_values\": 7,\n        \"samples\": [\n          0.08162940708348335,\n          0.018442671310748508,\n          1.0\n        ],\n        \"semantic_type\": \"\",\n        \"description\": \"\"\n      }\n    },\n    {\n      \"column\": \"fare\",\n      \"properties\": {\n        \"dtype\": \"number\",\n        \"std\": 0.47271418573840596,\n        \"min\": -0.5494996199439076,\n        \"max\": 1.0,\n        \"num_unique_values\": 7,\n        \"samples\": [\n          0.2573065223849626,\n          -0.5494996199439076,\n          0.21622494477076448\n        ],\n        \"semantic_type\": \"\",\n        \"description\": \"\"\n      }\n    }\n  ]\n}"
            }
          },
          "metadata": {},
          "execution_count": 110
        }
      ]
    },
    {
      "cell_type": "markdown",
      "source": [
        "Sırayla okuturken hata çıkmasın diye ilerideki kodları buraya kopyaladım"
      ],
      "metadata": {
        "id": "9foOqdeFtyVg"
      }
    },
    {
      "cell_type": "code",
      "source": [
        "a=df[\"age\"].mean()\n",
        "\n",
        "df[\"age\"].fillna(float(a),inplace=True)\n",
        "\n",
        "df[\"age\"].count()\n",
        "\n",
        "#drop etmedim değerli veriler vardı\n",
        "#eksik verileri ortalama ile doldurdum ki tutarlı olsun\n",
        "\n",
        "\n",
        "\n"
      ],
      "metadata": {
        "colab": {
          "base_uri": "https://localhost:8080/"
        },
        "id": "qEDknVAQtaZo",
        "outputId": "07883a46-34bd-45f3-a6d8-0d807f3db749"
      },
      "execution_count": null,
      "outputs": [
        {
          "output_type": "stream",
          "name": "stderr",
          "text": [
            "/tmp/ipython-input-3044782142.py:3: FutureWarning: A value is trying to be set on a copy of a DataFrame or Series through chained assignment using an inplace method.\n",
            "The behavior will change in pandas 3.0. This inplace method will never work because the intermediate object on which we are setting values always behaves as a copy.\n",
            "\n",
            "For example, when doing 'df[col].method(value, inplace=True)', try using 'df.method({col: value}, inplace=True)' or df[col] = df[col].method(value) instead, to perform the operation inplace on the original object.\n",
            "\n",
            "\n",
            "  df[\"age\"].fillna(float(a),inplace=True)\n"
          ]
        },
        {
          "output_type": "execute_result",
          "data": {
            "text/plain": [
              "np.int64(891)"
            ]
          },
          "metadata": {},
          "execution_count": 111
        }
      ]
    },
    {
      "cell_type": "code",
      "source": [
        "fig,axes=plt.subplots(1,2,figsize=(10,10))\n",
        "\n",
        "df[\"yaş_araligi\"]=df[\"age\"].apply(lambda x:\"çocuk\" if  0<=x<18 else(\"yetişkin\" if 18<=x<65 else \"yaşlı\"))\n",
        "\n",
        "df[\"Sex_wr\"]=df[\"sex\"].apply(lambda x: \"Male\" if x==1 else \"Female\")\n",
        "df[\"Kurtulma_yüzdesi\"] = df[\"survived\"] * 100\n",
        "\n",
        "yaş_by_surv=df.groupby([\"yaş_araligi\",\"Sex_wr\"])[\"Kurtulma_yüzdesi\"].mean().reset_index()\n",
        "sns.barplot(data=yaş_by_surv,x=\"yaş_araligi\",y=\"Kurtulma_yüzdesi\",hue=\"Sex_wr\",ax=axes[0],palette={\"Male\":\"blue\",\"Female\":\"orange\"})\n",
        "axes[0].set_title(\"Yaş aralığına ve cinsiyete göre kurtulma yüzdesi\")\n",
        "axes[0].set_ylabel(\"%Kurtulma yüzdesi\")\n",
        "\n",
        "\n",
        "pclass_surv=df.groupby([\"pclass\",\"Sex_wr\"])[\"Kurtulma_yüzdesi\"].mean().reset_index()\n",
        "sns.barplot(data=pclass_surv,x=\"pclass\",y=\"Kurtulma_yüzdesi\",hue=\"Sex_wr\",ax=axes[1],palette={\"Female\":\"orange\",\"Male\":\"blue\"})#Class'a göre kurtulanların ortalaması\n",
        "axes[1].set_title(\"Class'a göre kurtulma yüzdesi\")\n",
        "axes[1].set_ylabel(\"%Kurtulma yüzdesi\")\n",
        "#Sınıf kalitesi yüksek olanlar alt kalite sınıflara göre daha yüksek oranda kurtuldu\n",
        "#Yaşlıların çoğu öldü,kurtulanların ise çoğu kadın\n",
        "\n",
        "plt.show()"
      ],
      "metadata": {
        "colab": {
          "base_uri": "https://localhost:8080/",
          "height": 872
        },
        "id": "HecEVEnG0K9f",
        "outputId": "cbae91ef-c12d-4659-c1d6-3f8db0556c44"
      },
      "execution_count": null,
      "outputs": [
        {
          "output_type": "display_data",
          "data": {
            "text/plain": [
              "<Figure size 1000x1000 with 2 Axes>"
            ],
            "image/png": "[encoded data removed]"
          },
          "metadata": {}
        }
      ]
    },
    {
      "cell_type": "code",
      "source": [
        "age_money_sex=sns.scatterplot(data=df,x=\"fare\",y=\"age\",hue=\"Sex_wr\")\n",
        "age_money_sex\n",
        "#fiyata göre yaş ve cinsiyet grafiği"
      ],
      "metadata": {
        "colab": {
          "base_uri": "https://localhost:8080/",
          "height": 466
        },
        "id": "K3fl0cg5k2MQ",
        "outputId": "46538270-eacc-4b1c-af49-5a7e6f97c9be"
      },
      "execution_count": null,
      "outputs": [
        {
          "output_type": "execute_result",
          "data": {
            "text/plain": [
              "<Axes: xlabel='fare', ylabel='age'>"
            ]
          },
          "metadata": {},
          "execution_count": 113
        },
        {
          "output_type": "display_data",
          "data": {
            "text/plain": [
              "<Figure size 640x480 with 1 Axes>"
            ],
            "image/png": "[encoded data removed]"
          },
          "metadata": {}
        }
      ]
    },
    {
      "cell_type": "code",
      "source": [
        "# df[\"Kurtulma_yüzdesi\"] = df[\"survived\"] * 100\n",
        "\n",
        "# pclass_surv=df.groupby([\"pclass\",\"Sex_wr\"])[\"Kurtulma_yüzdesi\"].mean().reset_index()\n",
        "# sns.barplot(data=pclass_surv,x=\"pclass\",y=\"Kurtulma_yüzdesi\",hue=\"Sex_wr\",palette={\"Female\":\"orange\",\"Male\":\"blue\"})#Class'a göre kurtulanların ortalaması\n",
        "# plt.xlabel(\"Uçus Class'ı\")\n",
        "# plt.ylabel(\"%Kurtulma yüzdesi\")\n",
        "# plt.title(\"Class'a göre kurtulma yüzdesi\")\n",
        "# plt.show()"
      ],
      "metadata": {
        "id": "ZhWt8pXE-W6J"
      },
      "execution_count": null,
      "outputs": []
    },
    {
      "cell_type": "markdown",
      "source": [
        "4-Veri Ön işleme (Eksik verileri doldurma)"
      ],
      "metadata": {
        "id": "gGPHEYq1Ttw9"
      }
    },
    {
      "cell_type": "code",
      "source": [
        "\n",
        "a=df[\"age\"].mean()\n",
        "\n",
        "df[\"age\"].fillna(float(a),inplace=True)\n",
        "\n",
        "df[\"age\"].count()\n",
        "\n"
      ],
      "metadata": {
        "colab": {
          "base_uri": "https://localhost:8080/"
        },
        "id": "JCObgEd5Tr0K",
        "outputId": "0d33282f-41ba-4494-c6af-09261e1ba23d"
      },
      "execution_count": null,
      "outputs": [
        {
          "output_type": "stream",
          "name": "stderr",
          "text": [
            "/tmp/ipython-input-2541525518.py:3: FutureWarning: A value is trying to be set on a copy of a DataFrame or Series through chained assignment using an inplace method.\n",
            "The behavior will change in pandas 3.0. This inplace method will never work because the intermediate object on which we are setting values always behaves as a copy.\n",
            "\n",
            "For example, when doing 'df[col].method(value, inplace=True)', try using 'df.method({col: value}, inplace=True)' or df[col] = df[col].method(value) instead, to perform the operation inplace on the original object.\n",
            "\n",
            "\n",
            "  df[\"age\"].fillna(float(a),inplace=True)\n"
          ]
        },
        {
          "output_type": "execute_result",
          "data": {
            "text/plain": [
              "np.int64(891)"
            ]
          },
          "metadata": {},
          "execution_count": 116
        }
      ]
    },
    {
      "cell_type": "markdown",
      "source": [
        "Ekstra(Üstteki kodları çalıştırdıktan sonra çalıştırın)\n"
      ],
      "metadata": {
        "id": "oTI3je1fT0RZ"
      }
    },
    {
      "cell_type": "markdown",
      "source": [
        "bu train.csv içindi"
      ],
      "metadata": {
        "id": "iNIboANrAglK"
      }
    },
    {
      "cell_type": "code",
      "source": [
        "# df.drop([\"passengerId\",\"ticket\"],axis=1,inplace=True)#büyük oranda işe yaramaz\n",
        "\n",
        "# df.set_index(\"name\",drop=True,inplace=True)#Daha okunaklı\n",
        "# df"
      ],
      "metadata": {
        "id": "Y9ulLh1dUWEg"
      },
      "execution_count": null,
      "outputs": []
    },
    {
      "cell_type": "code",
      "source": [
        "df[\"age\"].mean()"
      ],
      "metadata": {
        "id": "R9Lg9W2Jq6Ay",
        "colab": {
          "base_uri": "https://localhost:8080/"
        },
        "outputId": "ab02b2d7-95af-41f5-a212-5cc61549e752"
      },
      "execution_count": null,
      "outputs": [
        {
          "output_type": "execute_result",
          "data": {
            "text/plain": [
              "np.float64(29.69911764705882)"
            ]
          },
          "metadata": {},
          "execution_count": 31
        }
      ]
    },
    {
      "cell_type": "code",
      "source": [
        "df.groupby(\"pclass\")[\"survived\"].mean()"
      ],
      "metadata": {
        "id": "hICSq_QBq40j",
        "colab": {
          "base_uri": "https://localhost:8080/",
          "height": 210
        },
        "outputId": "5064fcc5-3d7c-442d-d9b4-23465b6c2f28"
      },
      "execution_count": null,
      "outputs": [
        {
          "output_type": "execute_result",
          "data": {
            "text/plain": [
              "pclass\n",
              "1    0.629630\n",
              "2    0.472826\n",
              "3    0.242363\n",
              "Name: survived, dtype: float64"
            ],
            "text/html": [
              "<div>\n",
              "<style scoped>\n",
              "    .dataframe tbody tr th:only-of-type {\n",
              "        vertical-align: middle;\n",
              "    }\n",
              "\n",
              "    .dataframe tbody tr th {\n",
              "        vertical-align: top;\n",
              "    }\n",
              "\n",
              "    .dataframe thead th {\n",
              "        text-align: right;\n",
              "    }\n",
              "</style>\n",
              "<table border=\"1\" class=\"dataframe\">\n",
              "  <thead>\n",
              "    <tr style=\"text-align: right;\">\n",
              "      <th></th>\n",
              "      <th>survived</th>\n",
              "    </tr>\n",
              "    <tr>\n",
              "      <th>pclass</th>\n",
              "      <th></th>\n",
              "    </tr>\n",
              "  </thead>\n",
              "  <tbody>\n",
              "    <tr>\n",
              "      <th>1</th>\n",
              "      <td>0.629630</td>\n",
              "    </tr>\n",
              "    <tr>\n",
              "      <th>2</th>\n",
              "      <td>0.472826</td>\n",
              "    </tr>\n",
              "    <tr>\n",
              "      <th>3</th>\n",
              "      <td>0.242363</td>\n",
              "    </tr>\n",
              "  </tbody>\n",
              "</table>\n",
              "</div><br><label><b>dtype:</b> float64</label>"
            ]
          },
          "metadata": {},
          "execution_count": 117
        }
      ]
    },
    {
      "cell_type": "code",
      "source": [
        "df['bilet_fiyat_araligi']=df['fare'].apply(lambda x:\"0 ile 100 arası bilet fiyatları\" if 0<x<100 else(\"100 ile 200 arası bilet fiyatları\" if 100<x<200 else \"200 ile 500 arası bilet fiyatları\"))\n",
        "bilet_fiyat_araligina_göre_kurtulma_yüzdesi=df.groupby(\"bilet_fiyat_araligi\")[\"survived\"].mean()\n",
        "bilet_fiyat_araligina_göre_kurtulma_yüzdesi"
      ],
      "metadata": {
        "colab": {
          "base_uri": "https://localhost:8080/",
          "height": 210
        },
        "id": "zir_RKDHlHi3",
        "outputId": "069aeee4-f930-4545-c900-4138b5258bab"
      },
      "execution_count": null,
      "outputs": [
        {
          "output_type": "execute_result",
          "data": {
            "text/plain": [
              "bilet_fiyat_araligi\n",
              "0 ile 100 arası bilet fiyatları      0.366950\n",
              "100 ile 200 arası bilet fiyatları    0.757576\n",
              "200 ile 500 arası bilet fiyatları    0.428571\n",
              "Name: survived, dtype: float64"
            ],
            "text/html": [
              "<div>\n",
              "<style scoped>\n",
              "    .dataframe tbody tr th:only-of-type {\n",
              "        vertical-align: middle;\n",
              "    }\n",
              "\n",
              "    .dataframe tbody tr th {\n",
              "        vertical-align: top;\n",
              "    }\n",
              "\n",
              "    .dataframe thead th {\n",
              "        text-align: right;\n",
              "    }\n",
              "</style>\n",
              "<table border=\"1\" class=\"dataframe\">\n",
              "  <thead>\n",
              "    <tr style=\"text-align: right;\">\n",
              "      <th></th>\n",
              "      <th>survived</th>\n",
              "    </tr>\n",
              "    <tr>\n",
              "      <th>bilet_fiyat_araligi</th>\n",
              "      <th></th>\n",
              "    </tr>\n",
              "  </thead>\n",
              "  <tbody>\n",
              "    <tr>\n",
              "      <th>0 ile 100 arası bilet fiyatları</th>\n",
              "      <td>0.366950</td>\n",
              "    </tr>\n",
              "    <tr>\n",
              "      <th>100 ile 200 arası bilet fiyatları</th>\n",
              "      <td>0.757576</td>\n",
              "    </tr>\n",
              "    <tr>\n",
              "      <th>200 ile 500 arası bilet fiyatları</th>\n",
              "      <td>0.428571</td>\n",
              "    </tr>\n",
              "  </tbody>\n",
              "</table>\n",
              "</div><br><label><b>dtype:</b> float64</label>"
            ]
          },
          "metadata": {},
          "execution_count": 118
        }
      ]
    },
    {
      "cell_type": "code",
      "source": [
        "df[\"yaş_araligi\"]=df[\"age\"].apply(lambda x:\"çocuk\" if  0<=x<18 else(\"yetişkin\" if 18<=x<65 else \"yaşlı\"))\n",
        "\n",
        "yaş_araligi_yüzdesine_göre_yüzde=df.groupby(\"yaş_araligi\")[\"survived\"].mean()\n",
        "\n",
        "yaş_araligi_yüzdesine_göre_yüzde"
      ],
      "metadata": {
        "colab": {
          "base_uri": "https://localhost:8080/",
          "height": 210
        },
        "id": "BuxRQqe7Dihz",
        "outputId": "23643fa9-ca23-4211-a42b-5a3697dee97b"
      },
      "execution_count": null,
      "outputs": [
        {
          "output_type": "execute_result",
          "data": {
            "text/plain": [
              "yaş_araligi\n",
              "yaşlı       0.090909\n",
              "yetişkin    0.365059\n",
              "çocuk       0.539823\n",
              "Name: survived, dtype: float64"
            ],
            "text/html": [
              "<div>\n",
              "<style scoped>\n",
              "    .dataframe tbody tr th:only-of-type {\n",
              "        vertical-align: middle;\n",
              "    }\n",
              "\n",
              "    .dataframe tbody tr th {\n",
              "        vertical-align: top;\n",
              "    }\n",
              "\n",
              "    .dataframe thead th {\n",
              "        text-align: right;\n",
              "    }\n",
              "</style>\n",
              "<table border=\"1\" class=\"dataframe\">\n",
              "  <thead>\n",
              "    <tr style=\"text-align: right;\">\n",
              "      <th></th>\n",
              "      <th>survived</th>\n",
              "    </tr>\n",
              "    <tr>\n",
              "      <th>yaş_araligi</th>\n",
              "      <th></th>\n",
              "    </tr>\n",
              "  </thead>\n",
              "  <tbody>\n",
              "    <tr>\n",
              "      <th>yaşlı</th>\n",
              "      <td>0.090909</td>\n",
              "    </tr>\n",
              "    <tr>\n",
              "      <th>yetişkin</th>\n",
              "      <td>0.365059</td>\n",
              "    </tr>\n",
              "    <tr>\n",
              "      <th>çocuk</th>\n",
              "      <td>0.539823</td>\n",
              "    </tr>\n",
              "  </tbody>\n",
              "</table>\n",
              "</div><br><label><b>dtype:</b> float64</label>"
            ]
          },
          "metadata": {},
          "execution_count": 119
        }
      ]
    },
    {
      "cell_type": "code",
      "source": [
        "df[\"yaş_araligi\"]=df[\"age\"].apply(lambda x:\"çocuk\" if  0<=x<18 else(\"yetişkin\" if 18<=x<65 else \"yaşlı\"))\n",
        "yaş_araligi_yüzdesine_göre_yüzde=df.groupby(\"yaş_araligi\")[\"survived\"].mean()\n",
        "\n",
        "cinsiyet_kurtulma_yüzdesi= df.groupby(\"sex\")[\"survived\"].mean()\n",
        "\n",
        "\n",
        "print(cinsiyet_kurtulma_yüzdesi)\n",
        "print(yaş_araligi_yüzdesine_göre_yüzde)\n",
        "#bu sayede cinsiyet ya da yaş aralığına göre kurtulma yüzdemi buldum."
      ],
      "metadata": {
        "colab": {
          "base_uri": "https://localhost:8080/"
        },
        "id": "ydjhU44dOujG",
        "outputId": "adbd59ee-c8f4-4f6b-a215-54146d302d0d"
      },
      "execution_count": null,
      "outputs": [
        {
          "output_type": "stream",
          "name": "stdout",
          "text": [
            "sex\n",
            "0    0.742038\n",
            "1    0.188908\n",
            "Name: survived, dtype: float64\n",
            "yaş_araligi\n",
            "yaşlı       0.090909\n",
            "yetişkin    0.365059\n",
            "çocuk       0.539823\n",
            "Name: survived, dtype: float64\n"
          ]
        }
      ]
    },
    {
      "cell_type": "markdown",
      "source": [
        "DEVAM EDECEK"
      ],
      "metadata": {
        "id": "Iciag70-eBeF"
      }
    },
    {
      "cell_type": "markdown",
      "source": [
        " 1-Veri Setini Tanıt:\n",
        "+Seçtiğin veri seti nedir?\n",
        "-Seçtiğim veri seti Titanic\n",
        "\n",
        "+İçinde hangi değişkenler (feature) var?\n",
        "-İçinde ['survived', 'pclass', 'sex', 'age', 'sibsp', 'parch', 'fare', 'class',\n",
        "       'deck', 'embark_town', 'alone']\n",
        "\n",
        "+Veri setinin boyutu ne?\n",
        "-891 row, 12 column\n",
        "\n",
        " 2-Temel Veri Analizi (EDA):\n",
        "+Eksik değer analizi ve özet istatistikler\n",
        "-age,cabin,embark_town\n",
        "\n",
        "+Kategorik ve sayısal değişkenlerin dağılımı\n",
        "-Kategorik:\n",
        "\n",
        "survived'nın değerleri:[0 1]\n",
        "\n",
        "pclass'nın değerleri:[3 1 2]\n",
        "\n",
        "sex'nın değerleri:['male' 'female']\n",
        "\n",
        "sibsp'nın değerleri:[1 0 3 4 2 5 8]\n",
        "\n",
        "parch'nın değerleri:[0 1 2 5 3 4 6]\n",
        "\n",
        "class'nın değerleri:['Third', 'First', 'Second']\n",
        "\n",
        "Categories (3, object): ['First', 'Second', 'Third']\n",
        "\n",
        "deck'nın değerleri:[NaN, 'C', 'E', 'G', 'D', 'A', 'B', 'F']\n",
        "\n",
        "Categories (7, object): ['A', 'B', 'C', 'D', 'E', 'F', 'G']\n",
        "\n",
        "embark_town'nın değerleri:['Southampton' 'Cherbourg' 'Queenstown' nan]\n",
        "\n",
        "alone'nın değerleri:[False  True]\n",
        "\n",
        "survived'nın değerleri:[0 1]\n",
        "\n",
        "bu sayede embark_town'da NaN buldum\n",
        "\n",
        "\n",
        "\n",
        "\n",
        "+Gerekirse outlier tespiti (boxplot, IQR vs.)\n",
        "-Tespit edildi\n",
        "\n",
        " 3-Veri Görselleştirme\n",
        "+Seaborn / Matplotlib / Plotly ile grafikler\n",
        "-Kullanıldı\n",
        "\n",
        "+İlişkileri gösteren grafikler (örn: korelasyon matrisi, scatterplot)\n",
        "-corr ile doğrusal ilişkilere baktım\n",
        "\n",
        " 4-Veri Ön İşleme\n",
        "+Eksik verileri doldurma / çıkarma\n",
        "-age'deki eksik 177 kişi mean ile dolduracağım\n",
        "-embark_town 2 NaN var\n",
        "\n",
        "+Kategorik değişkenleri kodlama (OneHotEncoder, LabelEncoder)\n",
        "-Henüz bilmiyorum\n",
        "\n",
        "+Gerekirse normalizasyon / ölçekleme\n",
        "-Henüz bilmiyorum\n",
        "\n",
        "5-Basit Bir Modelleme\n",
        "-Henüz bilmiyorum\n",
        "\n",
        "6.Sonuçların Yorumlanması\n",
        "+Modelin doğruluğu ne çıktı?\n",
        "-corr ile doğrusal ilişkilere baktım\n",
        "-Regresyonu henüz bilmiyorum\n",
        "\n",
        "+Hangi değişkenler önemli görünüyordu?\n",
        "-survived\n",
        "\n",
        "+Ne öğrenmiş oldun?\n",
        "-Veri analizinin başlarındayım.Daha iyi öğrenmek için veri bilimi kütüphanelerini öğreniyorum ve bu bilgileri kendime kattıkça bu soruların cevaplarını güncelliyorum.\n",
        "\n"
      ],
      "metadata": {
        "id": "hujBaKp-2Chb"
      }
    },
    {
      "cell_type": "code",
      "source": [],
      "metadata": {
        "id": "aHyujzAlBwBI"
      },
      "execution_count": null,
      "outputs": []
    }
  ]
}